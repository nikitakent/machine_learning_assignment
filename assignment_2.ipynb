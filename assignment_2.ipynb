{
 "cells": [
  {
   "cell_type": "code",
   "execution_count": null,
   "metadata": {},
   "outputs": [],
   "source": [
    "# Using Python 3.9.6 64-bit\n",
    "# Install libraries\n",
    "\n",
    "# pip3 install os\n",
    "# pip3 install pandas \n",
    "# pip3 install glob"
   ]
  },
  {
   "cell_type": "markdown",
   "metadata": {},
   "source": [
    "In order to maintain the ham:spam ratio (which differs in each folder we have been provided), we have collated all the \"ham\" text files into one large \"ham\" array, and all the spam text files into one large \"spam array\". \n",
    "\n",
    "To achieve this we used the libraries *os* and *glob*: the former sets/changes the working directory, while the latter searches for a specific file pattern. Since our ham/spam folders were nested, glob was really useful......"
   ]
  },
  {
   "cell_type": "code",
   "execution_count": 2,
   "metadata": {},
   "outputs": [],
   "source": [
    "# Set working directory: \n",
    "import os\n",
    "import pandas as pd\n",
    "import glob\n",
    "\n",
    "path = \"C:/Users/64277/OneDrive - AUT University/Data Mining - COMP723/Data Mining Assignment\"\n",
    "\n",
    "# Change the working directory \n",
    "os.chdir(path)\n",
    "\n",
    "ham_spam_files = glob.glob(path + '/enron*/*am/*am.txt')"
   ]
  },
  {
   "cell_type": "code",
   "execution_count": 3,
   "metadata": {},
   "outputs": [],
   "source": [
    "# debug - iterating through lists in python *** CAN DELETE LATER ***\n",
    "\n",
    "# firstTen = ham_spam_files[0:10]\n",
    "\n",
    "# # print(firstTen)\n",
    "\n",
    "# n = 0\n",
    "# for file in ham_spam_files: \n",
    "\n",
    "#     if \"enron1\" in file: \n",
    "#         n+=1\n",
    "#     if \"spam\" in file: \n",
    "#         print(\"success\")\n",
    "\n",
    "# print(\"There are\", n, \"text files within enron1\")"
   ]
  },
  {
   "cell_type": "code",
   "execution_count": 4,
   "metadata": {},
   "outputs": [
    {
     "name": "stdout",
     "output_type": "stream",
     "text": [
      "Successfully crea+ted  Temp dataframe for Ham:Spam with shape (27716, 3)\n"
     ]
    }
   ],
   "source": [
    "'''Iterate through all the files'''\n",
    "# print(enron_folder)\n",
    "\n",
    "# loop through list of files and store the output into a dataframe using DataFrame.loc\n",
    "i = 0\n",
    "\n",
    "column_names = [\"category\", \"message\", \"enron folder\"]\n",
    "df = pd.DataFrame(columns = column_names)\n",
    "for f in ham_spam_files:\n",
    "    # see if enron1, 2, 3, 4, 5: \n",
    "    if \"spam\" in f: \n",
    "        df.loc[i, ['category']] = \"spam\"\n",
    "    if \"ham\" in f: \n",
    "        df.loc[i, ['category']] = \"ham\"\n",
    "    # get the folder \n",
    "    for x in range(1,6): \n",
    "\n",
    "        if (\"enron\" + str(x)) in f: \n",
    "            df.loc[i, ['enron folder']]= \"enron\" + str(x)\n",
    "    # open the file path and read in text\n",
    "    with open(f, 'r', encoding = 'ascii', errors='ignore') as file:\n",
    "        df.loc[i, ['message']] = file.read()\n",
    "\n",
    "    # append temp_df to the end of the main dataframe\n",
    "    # main_df.append(temp_df)\n",
    "    i += 1\n",
    "\n",
    "\n",
    "#Print result\n",
    "print(f'Successfully crea+ted  Temp dataframe for Ham:Spam with shape {df.shape}')\n",
    "  "
   ]
  },
  {
   "cell_type": "code",
   "execution_count": 67,
   "metadata": {},
   "outputs": [],
   "source": [
    "\n",
    "# Declare text array:-- we don't want a text array in this case - better to work with pandas ***DELETE LATER***\n",
    "# text = []\n",
    "\n",
    "# for file in os.listdir(): # listdir() lists all the files and other folders in the\n",
    "#     # Ensure files are in text format\n",
    "#      if file.endswith(\".txt\"):\n",
    "#           # file_path = f\"{path}\\{file}\" -- for windows only\n",
    "#           file_path = os.path.join(path, file)\n",
    "#           # print(file_path)\n",
    "#            # If files end with .txt, read the text\n",
    "#          with open(file_path, 'r', encoding = 'ascii', errors='ignore') as f:\n",
    "#               doc_text = f.read()\n",
    "#              text.append(doc_text)"
   ]
  },
  {
   "cell_type": "markdown",
   "metadata": {},
   "source": [
    "References: \n",
    "\n"
   ]
  }
 ],
 "metadata": {
  "interpreter": {
   "hash": "3e4161d183124531bcd79d9c6a605b5a829023452995e949ad1a49575a2e0088"
  },
  "kernelspec": {
   "display_name": "Python 3 (ipykernel)",
   "language": "python",
   "name": "python3"
  },
  "language_info": {
   "codemirror_mode": {
    "name": "ipython",
    "version": 3
   },
   "file_extension": ".py",
   "mimetype": "text/x-python",
   "name": "python",
   "nbconvert_exporter": "python",
   "pygments_lexer": "ipython3",
   "version": "3.9.6"
  }
 },
 "nbformat": 4,
 "nbformat_minor": 4
}
