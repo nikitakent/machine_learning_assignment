{
 "cells": [
  {
   "cell_type": "code",
   "execution_count": 94,
   "metadata": {},
   "outputs": [],
   "source": [
    "# Using Python 3.9.6 64-bit\n",
    "# Install libraries\n",
    "\n",
    "# pip3 install os\n",
    "# pip3 install pandas \n",
    "# pip3 install glob"
   ]
  },
  {
   "cell_type": "code",
   "execution_count": 95,
   "metadata": {},
   "outputs": [],
   "source": [
    "import os\n",
    "import pandas as pd\n",
    "import glob\n",
    "import numpy as np\n",
    "import nltk\n",
    "from sklearn.feature_extraction.text import CountVectorizer, TfidfVectorizer\n",
    "from sklearn.metrics import accuracy_score, confusion_matrix, classification_report\n",
    "from nltk.corpus import stopwords\n",
    "import string \n",
    "import matplotlib.pyplot as plt\n",
    "import re\n",
    "# from bs4 import BeautifulSoup\n",
    "%matplotlib inline"
   ]
  },
  {
   "cell_type": "markdown",
   "metadata": {},
   "source": [
    "In order to maintain the ham:spam ratio (which differs in each folder we have been provided), we have collated all the \"ham\" text files into one large \"ham\" array, and all the spam text files into one large \"spam array\". \n",
    "\n",
    "To achieve this we used the libraries *os* and *glob*: the former sets/changes the working directory, while the latter searches for a specific file pattern. Since our ham/spam folders were nested, glob was really useful......"
   ]
  },
  {
   "cell_type": "code",
   "execution_count": 96,
   "metadata": {},
   "outputs": [],
   "source": [
    "# Set working directory: \n",
    "path = \"C:/Users/64277/OneDrive - AUT University/Data Mining - COMP723/Data Mining Assignment\"\n",
    "\n",
    "# Change the working directory \n",
    "os.chdir(path)\n",
    "\n",
    "ham_spam_files = glob.glob(path + '/enron*/*am/*am.txt')"
   ]
  },
  {
   "cell_type": "code",
   "execution_count": 97,
   "metadata": {},
   "outputs": [],
   "source": [
    "# debug - iterating through lists in python *** CAN DELETE LATER ***\n",
    "\n",
    "# firstTen = ham_spam_files[0:10]\n",
    "\n",
    "# # print(firstTen)\n",
    "\n",
    "# n = 0\n",
    "# for file in ham_spam_files: \n",
    "\n",
    "#     if \"enron1\" in file: \n",
    "#         n+=1\n",
    "#     if \"spam\" in file: \n",
    "#         print(\"success\")\n",
    "\n",
    "# print(\"There are\", n, \"text files within enron1\")"
   ]
  },
  {
   "cell_type": "code",
   "execution_count": 98,
   "metadata": {},
   "outputs": [
    {
     "name": "stdout",
     "output_type": "stream",
     "text": [
      "Successfully created  Temp dataframe for Ham:Spam with shape (27716, 3)\n"
     ]
    }
   ],
   "source": [
    "'''Iterate through all the files'''\n",
    "# print(enron_folder)\n",
    "\n",
    "# loop through list of files and store the output into a dataframe using DataFrame.loc\n",
    "i = 0\n",
    "\n",
    "column_names = [\"category\", \"message\", \"enron folder\"]\n",
    "df = pd.DataFrame(columns = column_names)\n",
    "for f in ham_spam_files:\n",
    "    # see if enron1, 2, 3, 4, 5: \n",
    "    if \"spam\" in f: \n",
    "        df.loc[i, ['category']] = \"spam\"\n",
    "    if \"ham\" in f: \n",
    "        df.loc[i, ['category']] = \"ham\"\n",
    "    # get the folder \n",
    "    for x in range(1,6): \n",
    "\n",
    "        if (\"enron\" + str(x)) in f: \n",
    "            df.loc[i, ['enron folder']]= \"enron\" + str(x)\n",
    "    # open the file path and read in text\n",
    "    with open(f, 'r', encoding = 'ascii', errors='ignore') as file:\n",
    "        df.loc[i, ['message']] = file.read()\n",
    "\n",
    "    # append temp_df to the end of the main dataframe\n",
    "    # main_df.append(temp_df)\n",
    "    i += 1\n",
    "\n",
    "\n",
    "#Print result\n",
    "print(f'Successfully created  Temp dataframe for Ham:Spam with shape {df.shape}')\n",
    "  "
   ]
  },
  {
   "cell_type": "code",
   "execution_count": 99,
   "metadata": {},
   "outputs": [
    {
     "name": "stdout",
     "output_type": "stream",
     "text": [
      "category                                            ham\n",
      "message         Subject: christmas tree farm pictures\\n\n",
      "enron folder                                     enron1\n",
      "Name: 0, dtype: object\n",
      "Shape of our dataframe is (27716, 3)\n",
      "8109764\n"
     ]
    }
   ],
   "source": [
    "''' Explore the data'''\n",
    "# print row one of the data frame to check our data\n",
    "print(df.iloc[0])\n",
    "\n",
    "# verify shape one more time\n",
    "print(f'Shape of our dataframe is {df.shape}')\n",
    "\n",
    "# how many words are in the data?\n",
    "\n",
    "print(df['message'].apply(lambda x: len(x.split(' '))).sum())\n",
    "# there are 7 million words in our dataset\n"
   ]
  },
  {
   "cell_type": "code",
   "execution_count": 100,
   "metadata": {},
   "outputs": [
    {
     "data": {
      "text/plain": [
       "(27055, 3)"
      ]
     },
     "execution_count": 100,
     "metadata": {},
     "output_type": "execute_result"
    }
   ],
   "source": [
    "'''Clean the data'''\n",
    "\n",
    "# check for duplicates and remove them \n",
    "df.drop_duplicates(inplace = True) \n",
    "\n",
    "# show the new shape\n",
    "df.shape\n",
    "\n",
    "# drops 661 rows from our dataset!"
   ]
  },
  {
   "cell_type": "code",
   "execution_count": 101,
   "metadata": {},
   "outputs": [
    {
     "data": {
      "text/plain": [
       "category        0\n",
       "message         0\n",
       "enron folder    0\n",
       "dtype: int64"
      ]
     },
     "execution_count": 101,
     "metadata": {},
     "output_type": "execute_result"
    }
   ],
   "source": [
    "'''Clean the data 2.0 '''\n",
    "# show the number of missing data (e.g., \"Nan\",\"NAN\" or \"na\") for each column\n",
    "\n",
    "df.isnull().sum()\n",
    "\n",
    "# no missing data!"
   ]
  },
  {
   "cell_type": "code",
   "execution_count": 102,
   "metadata": {},
   "outputs": [
    {
     "data": {
      "text/html": [
       "<div>\n",
       "<style scoped>\n",
       "    .dataframe tbody tr th:only-of-type {\n",
       "        vertical-align: middle;\n",
       "    }\n",
       "\n",
       "    .dataframe tbody tr th {\n",
       "        vertical-align: top;\n",
       "    }\n",
       "\n",
       "    .dataframe thead th {\n",
       "        text-align: right;\n",
       "    }\n",
       "</style>\n",
       "<table border=\"1\" class=\"dataframe\">\n",
       "  <thead>\n",
       "    <tr style=\"text-align: right;\">\n",
       "      <th></th>\n",
       "      <th>category</th>\n",
       "      <th>message</th>\n",
       "      <th>enron folder</th>\n",
       "      <th>label</th>\n",
       "    </tr>\n",
       "  </thead>\n",
       "  <tbody>\n",
       "    <tr>\n",
       "      <th>15338</th>\n",
       "      <td>spam</td>\n",
       "      <td>Subject: l ' m reai | | y surprlsed . . .\\ncii...</td>\n",
       "      <td>enron3</td>\n",
       "      <td>1</td>\n",
       "    </tr>\n",
       "    <tr>\n",
       "      <th>12558</th>\n",
       "      <td>ham</td>\n",
       "      <td>Subject: article : ipe stays calm over new yor...</td>\n",
       "      <td>enron3</td>\n",
       "      <td>0</td>\n",
       "    </tr>\n",
       "    <tr>\n",
       "      <th>22019</th>\n",
       "      <td>spam</td>\n",
       "      <td>Subject: doctors use this too 8 cnom\\nci - ial...</td>\n",
       "      <td>enron4</td>\n",
       "      <td>1</td>\n",
       "    </tr>\n",
       "    <tr>\n",
       "      <th>10479</th>\n",
       "      <td>spam</td>\n",
       "      <td>Subject: are you ready to get it ?\\nhello !\\nv...</td>\n",
       "      <td>enron2</td>\n",
       "      <td>1</td>\n",
       "    </tr>\n",
       "    <tr>\n",
       "      <th>7782</th>\n",
       "      <td>ham</td>\n",
       "      <td>Subject: projects list\\nstinson ,\\njust want t...</td>\n",
       "      <td>enron2</td>\n",
       "      <td>0</td>\n",
       "    </tr>\n",
       "  </tbody>\n",
       "</table>\n",
       "</div>"
      ],
      "text/plain": [
       "      category                                            message  \\\n",
       "15338     spam  Subject: l ' m reai | | y surprlsed . . .\\ncii...   \n",
       "12558      ham  Subject: article : ipe stays calm over new yor...   \n",
       "22019     spam  Subject: doctors use this too 8 cnom\\nci - ial...   \n",
       "10479     spam  Subject: are you ready to get it ?\\nhello !\\nv...   \n",
       "7782       ham  Subject: projects list\\nstinson ,\\njust want t...   \n",
       "\n",
       "      enron folder  label  \n",
       "15338       enron3      1  \n",
       "12558       enron3      0  \n",
       "22019       enron4      1  \n",
       "10479       enron2      1  \n",
       "7782        enron2      0  "
      ]
     },
     "execution_count": 102,
     "metadata": {},
     "output_type": "execute_result"
    }
   ],
   "source": [
    "#Convert the Category field from text to an int\n",
    "#The models will out a number ranging from 0-1 corresponding to the spam or ham\n",
    "# def convert_category(text):\n",
    "#     if text == \"spam\":\n",
    "#         return 0\n",
    "#     elif text == \"ham\":\n",
    "#         return 1\n",
    "\n",
    "# convert_category(df['category'])\n",
    "\n",
    "df['label'] = df['category'].apply(lambda x:1 if x=='spam' else 0)\n",
    "\n",
    "df.sample(5)"
   ]
  },
  {
   "cell_type": "code",
   "execution_count": 103,
   "metadata": {},
   "outputs": [],
   "source": [
    "# Define a baseline model\n",
    "# This is the model we will be using to compare it to the more advanced models, such as neural networks, naive bayes and random forest. \n",
    "\n",
    "from sklearn.model_selection import train_test_split\n",
    "\n",
    "emails = df['message'].values\n",
    "y = df['label'].values\n",
    "\n",
    "\n",
    "email_train, email_test, y_train, y_test = train_test_split(\n",
    "  emails, y, test_size=0.3, random_state=1000, stratify = y)\n"
   ]
  },
  {
   "cell_type": "code",
   "execution_count": 104,
   "metadata": {},
   "outputs": [
    {
     "name": "stdout",
     "output_type": "stream",
     "text": [
      "CountVectorizer()\n"
     ]
    },
    {
     "data": {
      "text/plain": [
       "<18938x114646 sparse matrix of type '<class 'numpy.int64'>'\n",
       "\twith 2214517 stored elements in Compressed Sparse Row format>"
      ]
     },
     "execution_count": 104,
     "metadata": {},
     "output_type": "execute_result"
    }
   ],
   "source": [
    "# Vectorise the emails with a Bag of Words (BoW) approach using the CountVectorizer from SkLearn\n",
    "from sklearn.feature_extraction.text import CountVectorizer\n",
    "\n",
    "BoWvectorizer = CountVectorizer()\n",
    "\n",
    "# center the training set - standard score\n",
    "\n",
    "BoW_result= BoWvectorizer.fit(email_train)\n",
    "print(BoW_result)\n",
    "\n",
    "# transform the rest of the data\n",
    "X_train = BoW_result.transform(email_train)\n",
    "X_test = BoW_result.transform(email_test)\n",
    "\n",
    "X_train"
   ]
  },
  {
   "cell_type": "markdown",
   "metadata": {},
   "source": [
    "The resulting feature vectors have 18,938 samples which is also the number of training samples after the train_test split.  \n",
    "Each sample has 114,646 dimensions which is the size of the words in our sample's largest email (i.e., this is the size of our vocabulary)\n",
    "\n",
    "The count vectoriser also gives us a sparse matrix. This is a type of matrices that is less intensive on the processing memory as it only counts non-zero elements in matrices where there are few non-zero elements. \n",
    "\n",
    "Python's CountVectoriser() function tokenises each word in the email message, and it removes special punctuation and other special characters. \n",
    "#TODO: it is possible to use a custom tokeniser with CountVectoriser using the nltk library"
   ]
  },
  {
   "cell_type": "code",
   "execution_count": 105,
   "metadata": {},
   "outputs": [
    {
     "name": "stdout",
     "output_type": "stream",
     "text": [
      "F1 score: 98.79230258792302% \n",
      "Accuracy: 0.9887889614389552\n",
      "              precision    recall  f1-score   support\n",
      "\n",
      "        Spam       0.99      0.98      0.99      4371\n",
      "         Ham       0.98      0.99      0.99      3746\n",
      "\n",
      "    accuracy                           0.99      8117\n",
      "   macro avg       0.99      0.99      0.99      8117\n",
      "weighted avg       0.99      0.99      0.99      8117\n",
      "\n"
     ]
    }
   ],
   "source": [
    "from sklearn.linear_model import LogisticRegression\n",
    "from sklearn.metrics import f1_score\n",
    "\n",
    "classifier = LogisticRegression(class_weight = \"balanced\", max_iter = 100000000)\n",
    "classifier.fit(X_train, y_train)\n",
    "\n",
    "## calculate prediction\n",
    "\n",
    "y_pred = classifier.predict(X_test)\n",
    "target_names = ['Spam', 'Ham']\n",
    "\n",
    "## get the accuracy and f1 scores\n",
    "\n",
    "# f1 score\n",
    "f1score = f1_score(y_test, y_pred)\n",
    "print(f\"F1 score: {f1score * 100}% \")\n",
    "\n",
    "# accuracy\n",
    "print('Accuracy: %s' % accuracy_score(y_pred, y_test))\n",
    "\n",
    "# classification report\n",
    "report = classification_report(y_test, y_pred,target_names=target_names)\n",
    "print(report)"
   ]
  },
  {
   "cell_type": "code",
   "execution_count": 106,
   "metadata": {},
   "outputs": [
    {
     "data": {
      "text/plain": [
       "array([[4304,   67],\n",
       "       [  24, 3722]], dtype=int64)"
      ]
     },
     "execution_count": 106,
     "metadata": {},
     "output_type": "execute_result"
    }
   ],
   "source": [
    "# classifier.show_most_informative_features(20)-- works for naive bayes\n",
    "import math\n",
    "from sklearn.feature_selection import RFE\n",
    "\n",
    "# feature_importance = pd.DataFrame(target_names, columns = [\"feature\"])\n",
    "# feature_importance[\"importance\"] = pow(math.e, w)\n",
    "# feature_importance = feature_importance.sort_values(by = [\"importance\"], ascending=False)\n",
    "\n",
    "# rfe = RFE(classifier, 3)\n",
    "# fit = rfe.fit(email_train, email_test)\n",
    "# print(\"Num Features: %d\" % fit.n_features_)\n",
    "# print(\"Selected Features: %s\" % fit.support_)\n",
    "# print(\"Feature Ranking: %s\" % fit.ranking_)\n",
    "from sklearn import metrics\n",
    "\n",
    "cnf_matrix = metrics.confusion_matrix(y_test, y_pred)\n",
    "cnf_matrix"
   ]
  },
  {
   "cell_type": "code",
   "execution_count": 107,
   "metadata": {},
   "outputs": [
    {
     "data": {
      "text/plain": [
       "Text(0.5, 257.44, 'Predicted label')"
      ]
     },
     "execution_count": 107,
     "metadata": {},
     "output_type": "execute_result"
    },
    {
     "data": {
      "image/png": "[encoded data removed]",
      "text/plain": [
       "<Figure size 432x288 with 2 Axes>"
      ]
     },
     "metadata": {
      "needs_background": "light"
     },
     "output_type": "display_data"
    }
   ],
   "source": [
    "## Visual confusion matrix: \n",
    "import matplotlib.pyplot as plt\n",
    "import seaborn as sns\n",
    "%matplotlib inline\n",
    "\n",
    "class_names=[0,1] # name  of classes\n",
    "fig, ax = plt.subplots()\n",
    "tick_marks = np.arange(len(class_names))\n",
    "plt.xticks(tick_marks, class_names)\n",
    "plt.yticks(tick_marks, class_names)\n",
    "# create heatmap\n",
    "sns.heatmap(pd.DataFrame(cnf_matrix), annot=True, cmap=\"rocket\" ,fmt='g')\n",
    "ax.xaxis.set_label_position(\"top\")\n",
    "plt.tight_layout()\n",
    "plt.title('Confusion matrix', y=1.1)\n",
    "plt.ylabel('Actual label')\n",
    "plt.xlabel('Predicted label')"
   ]
  },
  {
   "cell_type": "markdown",
   "metadata": {},
   "source": [
    "# Deep Neural Networks learning model\n",
    "\n",
    "we want to use the sigmoid function for the output layer since we are dealing with a binary classification problem\n",
    "if it were a multi-label classification problem then we would want to use the softmax function for the output layer\n",
    "\n",
    "weights most important part of a neural network - start with random values and then uses the backpropogation method. \n",
    "\n",
    "Dependencies: \n",
    "- **pip install keras**\n",
    "- **pip install tensorflow**\n",
    "\n",
    "Note: **pip install tensorflow** might not work so try **pip install tensorflow --user** in Windows \n",
    "\n",
    "\n",
    "The default settings include: \n",
    "\n",
    "    - \"image_data_format\": \"channels_last\",\n",
    "    - \"epsilon\": 1e-07,\n",
    "    - \"floatx\": \"float32\",\n",
    "    - \"backend\": \"tensorflow\n",
    "\n",
    "(These can be found in the json file, enter: \"%USERPROFILE%/.keras/keras.json\" into command prompt on windows, \n",
    "or $HOME/.keras/keras.json on mac. \n",
    "\n"
   ]
  },
  {
   "cell_type": "code",
   "execution_count": 108,
   "metadata": {},
   "outputs": [],
   "source": [
    "# # check tensorflow version: \n",
    "# import tensorflow as tf\n",
    "# tf.__version__\n",
    "\n",
    "# # using version 2.6.1\n",
    "# from keras.models import Sequential\n",
    "# from keras import layers\n",
    "\n",
    "# input_dim = X_train.shape[1]  # Number of features\n",
    "# model = Sequential()\n",
    "# model.add(layers.Dense(10, input_dim=input_dim, activation='relu'))\n",
    "# model.add(layers.Dense(1, activation='sigmoid'))\n"
   ]
  },
  {
   "cell_type": "code",
   "execution_count": 109,
   "metadata": {},
   "outputs": [
    {
     "name": "stdout",
     "output_type": "stream",
     "text": [
      "Model: \"sequential_1\"\n",
      "_________________________________________________________________\n",
      "Layer (type)                 Output Shape              Param #   \n",
      "=================================================================\n",
      "dense_2 (Dense)              (None, 10)                1146470   \n",
      "_________________________________________________________________\n",
      "dense_3 (Dense)              (None, 1)                 11        \n",
      "=================================================================\n",
      "Total params: 1,146,481\n",
      "Trainable params: 1,146,481\n",
      "Non-trainable params: 0\n",
      "_________________________________________________________________\n"
     ]
    }
   ],
   "source": [
    "# # Summary of Keras NN model\n",
    "# model.compile(loss='binary_crossentropy', \n",
    "#              optimizer='adam', \n",
    "#             metrics=['accuracy'])\n",
    "# model.summary()"
   ]
  },
  {
   "cell_type": "code",
   "execution_count": 114,
   "metadata": {},
   "outputs": [
    {
     "data": {
      "text/plain": [
       "2214517"
      ]
     },
     "execution_count": 114,
     "metadata": {},
     "output_type": "execute_result"
    }
   ],
   "source": [
    "# Fit the NN Model to the data: \n",
    "# X_train[:15380]\n",
    "# print(X_train) #  (18937, 113176)\n",
    "# # print(y_train) # length 15380, 27,715)\n",
    "# history = model.fit(X_train[:15380], y_train,\n",
    "#                     epochs=100,\n",
    "#                     verbose=False,\n",
    "#                     validation_data=(X_test[:15380], y_test),\n",
    "#                     batch_size=10)\n",
    "\n",
    "# X_train.getnnz()"
   ]
  },
  {
   "cell_type": "code",
   "execution_count": 128,
   "metadata": {},
   "outputs": [
    {
     "name": "stdout",
     "output_type": "stream",
     "text": [
      "F1 score with Neural Network MLP Classifier: 96.0172228202368% \n",
      "**\n",
      "Accuracy with Neural Network MLP Classifier:  0.9588008565310493\n",
      "**\n",
      "Classification Report:                precision    recall  f1-score   support\n",
      "\n",
      "           0       0.99      0.93      0.96      5827\n",
      "           1       0.93      0.99      0.96      5848\n",
      "\n",
      "    accuracy                           0.96     11675\n",
      "   macro avg       0.96      0.96      0.96     11675\n",
      "weighted avg       0.96      0.96      0.96     11675\n",
      "\n",
      "*\n",
      "Neural Network Confusion Matrix: \n",
      " [[5396  431]\n",
      " [  50 5798]]\n",
      "\n",
      "End\n"
     ]
    }
   ],
   "source": [
    "# Applying Neural Network model logistic on the data #\n",
    "from sklearn.neural_network import MLPClassifier\n",
    "\n",
    "clf1 = MLPClassifier(activation='logistic', solver='lbfgs', learning_rate_init=0.1, alpha=1e-5,\n",
    "                        hidden_layer_sizes=(5, 2), random_state=1,max_iter=2000)\n",
    "#clf.fit(predicted_train, np.ravel(target_train, order='C'))\n",
    "clf1 = clf1.fit(X_train, y_train)\n",
    "predictions = clf1.predict(X_test)\n",
    "\n",
    "# Get performance of algorithm\n",
    "f1score3 = f1_score(y_test, y_pred)\n",
    "print(f\"F1 score with Neural Network MLP Classifier: {f1score3 * 100}% \")\n",
    "print(\"**\")\n",
    "\n",
    "# Get classification stats\n",
    "print(\"Accuracy with Neural Network MLP Classifier: \", metrics.accuracy_score(y_test, y_pred))\n",
    "print(\"**\")\n",
    "\n",
    "print(\"Classification Report: \", classification_report(y_test,y_pred))\n",
    "print(\"*\")\n",
    "#print(\"Neural Network Classifier Accuracy score: \", accuracy_score(y_test, y_pred))\n",
    "\n",
    "# Get confusion matrix\n",
    "print(\"Neural Network Confusion Matrix: \\n\",confusion_matrix(y_test,y_pred))\n",
    "print(\"\\nEnd\")"
   ]
  },
  {
   "cell_type": "markdown",
   "metadata": {},
   "source": [
    "# Naive Bayes \n",
    "\n",
    "- multinomial naive bayes"
   ]
  },
  {
   "cell_type": "code",
   "execution_count": 116,
   "metadata": {},
   "outputs": [
    {
     "name": "stdout",
     "output_type": "stream",
     "text": [
      "F1 score with MultinomialNB: 98.9081225033289% \n",
      "**\n",
      "Accuracy with MultinomialNB:  0.9898977454724652\n",
      "**\n",
      "Classification Report:                precision    recall  f1-score   support\n",
      "\n",
      "           0       0.99      0.99      0.99      4371\n",
      "           1       0.99      0.99      0.99      3746\n",
      "\n",
      "    accuracy                           0.99      8117\n",
      "   macro avg       0.99      0.99      0.99      8117\n",
      "weighted avg       0.99      0.99      0.99      8117\n",
      "\n",
      "**\n",
      "MultinomialNB Confusion Matrix: \n",
      " [[4321   50]\n",
      " [  32 3714]]\n",
      "\n",
      "End\n"
     ]
    }
   ],
   "source": [
    "# Model Generation using Multinomial Naive Bayes #\n",
    "from sklearn.naive_bayes import MultinomialNB\n",
    "\n",
    "#Import scikit-learn metrics module for accuracy calculation\n",
    "from sklearn import metrics\n",
    "clf = MultinomialNB().fit(X_train, y_train)\n",
    "y_pred= clf.predict(X_test)\n",
    "\n",
    "# Get performance of algorithm\n",
    "f1score2 = f1_score(y_test, y_pred)\n",
    "print(f\"F1 score with MultinomialNB: {f1score2 * 100}% \")\n",
    "print(\"**\")\n",
    "\n",
    "# Get classification stats\n",
    "print(\"Accuracy with MultinomialNB: \", metrics.accuracy_score(y_test, y_pred))\n",
    "print(\"**\")\n",
    "\n",
    "print(\"Classification Report: \", classification_report(y_test,y_pred))\n",
    "print(\"**\")\n",
    "#print(\"MultinomialNB Classifier Accuracy score: \", accuracy_score(y_test, y_pred))\n",
    "\n",
    "# Get confusion matrix\n",
    "print(\"MultinomialNB Confusion Matrix: \\n\",confusion_matrix(y_test,y_pred))\n",
    "print(\"\\nEnd\")"
   ]
  },
  {
   "cell_type": "code",
   "execution_count": 118,
   "metadata": {},
   "outputs": [],
   "source": [
    "# # Import spaCy and load the language library\n",
    "# import spacy\n",
    "# #you will need this line below to download the package\n",
    "# #!python -m spacy download en_core_web_sm\n",
    "# nlp = spacy.load('en_core_web_sm')\n",
    "\n",
    "# # Convert dataframe to string\n",
    "# #df['message']= df['message'].apply(str)\n",
    "\n",
    "# # Create a Doc object of df\n",
    "# doc = nlp(df[0, 'message'].values)\n",
    "# token_list = []\n",
    "# # collect each token separately with their POS Tag, dependencies and lemma\n",
    "# for token in doc:\n",
    "#     output = [token.text, token.pos_, token.dep_,token.lemma_]\n",
    "#     token_list.append(output)\n",
    "# # create DataFrame using data \n",
    "# df_tokenised = pd.DataFrame(token_list, columns =['Word', 'POS Tag', 'Dependencies', 'Lemmatized Word']) "
   ]
  },
  {
   "cell_type": "markdown",
   "metadata": {},
   "source": [
    "# Part II. Using a second base line model --- lets test the classifiers using this data!"
   ]
  },
  {
   "cell_type": "code",
   "execution_count": 121,
   "metadata": {},
   "outputs": [],
   "source": [
    "# Second baseline model using enron 1, 3, 5  as training data and enron 2, 4 as test data\n",
    "\n",
    "x_train_df = df.loc[(df['enron folder'] == \"enron1\") |(df['enron folder'] == \"enron3\" ) | (df['enron folder'] == \"enron5\")]\n",
    "x_train2 = x_train_df['message'].values # training email messages\n",
    "x_test_df = df[(df['enron folder'] == \"enron2\") |(df['enron folder'] == \"enron4\" )] \n",
    "x_test2 = x_test_df['message'] # testing email messages\n",
    "y_train_df = df[(df['enron folder'] == \"enron1\") |(df['enron folder'] == \"enron3\" ) | (df['enron folder'] == \"enron5\")] \n",
    "y_train2 = y_train_df['label']# training labels\n",
    "y_test_df = df[(df['enron folder'] == \"enron2\") |(df['enron folder'] == \"enron4\" )] \n",
    "y_test2 = y_test_df['label']# testing labels\n",
    "\n",
    "# debug to make sure this has worked\n",
    "# print(y_test[:10])\n",
    "# print(y_test[-10:])\n",
    "# print(x_train[:10])\n",
    "# print(x_train[-10:])\n",
    "#  # etc"
   ]
  },
  {
   "cell_type": "code",
   "execution_count": 125,
   "metadata": {},
   "outputs": [
    {
     "name": "stdout",
     "output_type": "stream",
     "text": [
      "CountVectorizer()\n"
     ]
    }
   ],
   "source": [
    "# Vectorise the emails with a Bag of Words (BoW) approach using the CountVectorizer from SkLearn\n",
    "# from sklearn.feature_extraction.text import CountVectorizer\n",
    "# ^^^^ this should already be imported from above\n",
    "\n",
    "BoWvectorizer = CountVectorizer()\n",
    "\n",
    "# center the training set - standard score\n",
    "\n",
    "BoW_result2 = BoWvectorizer.fit(x_train2)\n",
    "print(BoW_result2)\n",
    "\n",
    "# transform the rest of the data\n",
    "x_train2 = BoW_result2.transform(x_train2)\n",
    "x_test2 = BoW_result2.transform(x_test2)"
   ]
  },
  {
   "cell_type": "markdown",
   "metadata": {},
   "source": [
    "# II. Logistic Regression "
   ]
  },
  {
   "cell_type": "code",
   "execution_count": 126,
   "metadata": {},
   "outputs": [
    {
     "name": "stdout",
     "output_type": "stream",
     "text": [
      "F1 score: 96.0172228202368% \n",
      "Accuracy: 0.9588008565310493\n"
     ]
    }
   ],
   "source": [
    "# from sklearn.linear_model import LogisticRegression\n",
    "# from sklearn.metrics import f1_score\n",
    "\n",
    "classifier = LogisticRegression(class_weight = \"balanced\", max_iter = 100000000)\n",
    "classifier.fit(x_train2, y_train2)\n",
    "\n",
    "## calculate prediction\n",
    "y_pred2 = classifier.predict(x_test2)\n",
    "target_names = ['Spam', 'Ham']\n",
    "\n",
    "## get the accuracy and f1 scores\n",
    "\n",
    "# f1 score\n",
    "f1score = f1_score(y_test2, y_pred2)\n",
    "print(f\"F1 score: {f1score * 100}% \")\n",
    "\n",
    "# accuracy\n",
    "print('Accuracy: %s' % accuracy_score(y_pred2, y_test2))\n",
    "\n",
    "# classification report\n",
    "report = classification_report(y_test2, y_pred2,target_names=target_names)"
   ]
  },
  {
   "cell_type": "markdown",
   "metadata": {},
   "source": [
    "# II. Naive Bayes"
   ]
  },
  {
   "cell_type": "code",
   "execution_count": 127,
   "metadata": {},
   "outputs": [
    {
     "name": "stdout",
     "output_type": "stream",
     "text": [
      "F1 score with MultinomialNB: 96.9220475075276% \n",
      "**\n",
      "Accuracy with MultinomialNB:  0.9684796573875804\n",
      "**\n",
      "Classification Report:                precision    recall  f1-score   support\n",
      "\n",
      "           0       0.99      0.95      0.97      5827\n",
      "           1       0.95      0.99      0.97      5848\n",
      "\n",
      "    accuracy                           0.97     11675\n",
      "   macro avg       0.97      0.97      0.97     11675\n",
      "weighted avg       0.97      0.97      0.97     11675\n",
      "\n",
      "**\n",
      "MultinomialNB Confusion Matrix: \n",
      " [[5513  314]\n",
      " [  54 5794]]\n",
      "\n",
      "End\n"
     ]
    }
   ],
   "source": [
    "# Model Generation using Multinomial Naive Bayes #\n",
    "# from sklearn.naive_bayes import MultinomialNB\n",
    "\n",
    "#Import scikit-learn metrics module for accuracy calculation\n",
    "# from sklearn import metrics\n",
    "clf = MultinomialNB().fit(x_train2, y_train2)\n",
    "y_pred2_nb= clf.predict(x_test2)\n",
    "\n",
    "# Get performance of algorithm\n",
    "f1score2_nb = f1_score(y_test2, y_pred2_nb)\n",
    "print(f\"F1 score with MultinomialNB: {f1score2_nb * 100}% \")\n",
    "print(\"**\")\n",
    "\n",
    "# Get classification stats\n",
    "print(\"Accuracy with MultinomialNB: \", metrics.accuracy_score(y_test2, y_pred2_nb))\n",
    "print(\"**\")\n",
    "\n",
    "print(\"Classification Report: \", classification_report(y_test2,y_pred2_nb))\n",
    "print(\"**\")\n",
    "#print(\"MultinomialNB Classifier Accuracy score: \", accuracy_score(y_test, y_pred))\n",
    "\n",
    "# Get confusion matrix\n",
    "print(\"MultinomialNB Confusion Matrix: \\n\",confusion_matrix(y_test2,y_pred2_nb))\n",
    "print(\"\\nEnd\")"
   ]
  },
  {
   "cell_type": "markdown",
   "metadata": {},
   "source": [
    "# II. Neural Networks - Multi Layer Pereceptron (MLP) Layer"
   ]
  },
  {
   "cell_type": "code",
   "execution_count": 129,
   "metadata": {},
   "outputs": [
    {
     "name": "stdout",
     "output_type": "stream",
     "text": [
      "F1 score with Neural Network MLP Classifier: 97.610979329041% \n",
      "**\n",
      "Accuracy with Neural Network MLP Classifier:  0.9758458244111349\n",
      "**\n",
      "Classification Report:                precision    recall  f1-score   support\n",
      "\n",
      "           0       0.98      0.97      0.98      5827\n",
      "           1       0.97      0.99      0.98      5848\n",
      "\n",
      "    accuracy                           0.98     11675\n",
      "   macro avg       0.98      0.98      0.98     11675\n",
      "weighted avg       0.98      0.98      0.98     11675\n",
      "\n",
      "**\n",
      "Neural Network Confusion Matrix: \n",
      " [[5632  195]\n",
      " [  87 5761]]\n",
      "\n",
      "End\n"
     ]
    }
   ],
   "source": [
    "# Applying Neural Network model logistic on the data #\n",
    "# from sklearn.neural_network import MLPClassifier\n",
    "\n",
    "clf1 = MLPClassifier(activation='logistic', solver='lbfgs', learning_rate_init=0.1, alpha=1e-5,\n",
    "                        hidden_layer_sizes=(5, 2), random_state=1,max_iter=2000)\n",
    "#clf.fit(predicted_train, np.ravel(target_train, order='C'))\n",
    "clf1 = clf1.fit(x_train2, y_train2)\n",
    "y_pred2_nn = clf1.predict(x_test2)\n",
    "\n",
    "# Get performance of algorithm\n",
    "f1score2_nn = f1_score(y_test2, y_pred2_nn)\n",
    "print(f\"F1 score with Neural Network MLP Classifier: {f1score2_nn * 100}% \")\n",
    "print(\"**\")\n",
    "\n",
    "# Get classification stats\n",
    "print(\"Accuracy with Neural Network MLP Classifier: \", metrics.accuracy_score(y_test2, y_pred2_nn))\n",
    "print(\"**\")\n",
    "\n",
    "print(\"Classification Report: \", classification_report(y_test2,y_pred2_nn))\n",
    "print(\"**\")\n",
    "#print(\"Neural Network Classifier Accuracy score: \", accuracy_score(y_test, y_pred))\n",
    "\n",
    "# Get confusion matrix\n",
    "print(\"Neural Network Confusion Matrix: \\n\",confusion_matrix(y_test2,y_pred2_nn))\n",
    "print(\"\\nEnd\")"
   ]
  },
  {
   "cell_type": "markdown",
   "metadata": {},
   "source": [
    "# II. TF-IFD vectoriser trial....\n",
    "\n",
    "In the previous chunks we have been using the CountVectorizer() function (Bag of Words), but since our accuracy and recall has dropped in the [enron1, enron5, enron3]:[enron2, enron4] data - compared to the 70:30 split data, it might be worthwhile to try another type of vectoriser to see if it improves. \n",
    "\n",
    "## Explanation of TF-IDF\n",
    "\n",
    "Using TF-IDF instead of BOW, TF-IDF also takes into account the frequency instead of just the occurence.\n",
    "This is calculated as:\n",
    "\n",
    "* Term frequency = (Number of Occurrences of a word)/(Total words in the document)**\n",
    "\n",
    "* IDF(word) = Log((Total number of documents)/(Number of documents containing the word))** \n",
    "\n",
    "* TF-IDF is the product of the two.**"
   ]
  },
  {
   "cell_type": "code",
   "execution_count": 136,
   "metadata": {},
   "outputs": [
    {
     "ename": "TypeError",
     "evalue": "'TfidfTransformer' object is not callable",
     "output_type": "error",
     "traceback": [
      "\u001b[1;31m---------------------------------------------------------------------------\u001b[0m",
      "\u001b[1;31mTypeError\u001b[0m                                 Traceback (most recent call last)",
      "\u001b[1;32m~\\AppData\\Local\\Temp/ipykernel_12348/2713070622.py\u001b[0m in \u001b[0;36m<module>\u001b[1;34m\u001b[0m\n\u001b[0;32m      1\u001b[0m \u001b[1;32mfrom\u001b[0m \u001b[0msklearn\u001b[0m\u001b[1;33m.\u001b[0m\u001b[0mfeature_extraction\u001b[0m\u001b[1;33m.\u001b[0m\u001b[0mtext\u001b[0m \u001b[1;32mimport\u001b[0m \u001b[0mTfidfTransformer\u001b[0m\u001b[1;33m\u001b[0m\u001b[1;33m\u001b[0m\u001b[0m\n\u001b[0;32m      2\u001b[0m \u001b[0mtfidfconverter\u001b[0m \u001b[1;33m=\u001b[0m \u001b[0mTfidfTransformer\u001b[0m\u001b[1;33m(\u001b[0m\u001b[1;33m)\u001b[0m\u001b[1;33m\u001b[0m\u001b[1;33m\u001b[0m\u001b[0m\n\u001b[1;32m----> 3\u001b[1;33m \u001b[0mtfidf_result\u001b[0m \u001b[1;33m=\u001b[0m \u001b[0mtfidfconverter\u001b[0m\u001b[1;33m(\u001b[0m\u001b[0mx_train2\u001b[0m\u001b[1;33m)\u001b[0m\u001b[1;33m\u001b[0m\u001b[1;33m\u001b[0m\u001b[0m\n\u001b[0m\u001b[0;32m      4\u001b[0m \u001b[1;31m# print(tfidf_result.idf_)\u001b[0m\u001b[1;33m\u001b[0m\u001b[1;33m\u001b[0m\u001b[1;33m\u001b[0m\u001b[0m\n\u001b[0;32m      5\u001b[0m \u001b[1;33m\u001b[0m\u001b[0m\n",
      "\u001b[1;31mTypeError\u001b[0m: 'TfidfTransformer' object is not callable"
     ]
    }
   ],
   "source": [
    "from sklearn.feature_extraction.text import TfidfTransformer\n",
    "# tfidfconverter = TfidfTransformer()\n",
    "# tfidf_result = tfidfconverter(x_train2)\n",
    "\n",
    "tfidfvectorizer = TfidfVectorizer(analyzer='word',stop_words= 'english')\n",
    "tfidf_wm = tfidfvectorizer.fit_transform(x_train2)\n",
    "\n",
    "# get feature names: \n",
    "tfidf_tokens = tfidfvectorizer.get_feature_names()\n",
    "# print(tfidf_result.idf_)\n",
    "\n",
    "# x_train2_tfidf = tfidf_result.transform(x_train2)\n",
    "# x_test2_tfidf = tfidf_result.transform(x_test2)\n",
    "\n",
    "################\n",
    "\n",
    "# BoWvectorizer = CountVectorizer()\n",
    "\n",
    "# # center the training set - standard score\n",
    "\n",
    "# BoW_result2 = BoWvectorizer.fit(x_train2)\n",
    "# print(BoW_result2)\n",
    "\n",
    "# # transform the rest of the data\n",
    "# x_train2 = BoW_result2.transform(x_train2)\n",
    "# x_test2 = BoW_result2.transform(x_test2)"
   ]
  },
  {
   "cell_type": "markdown",
   "metadata": {},
   "source": [
    "References: \n",
    "\n"
   ]
  }
 ],
 "metadata": {
  "interpreter": {
   "hash": "3e4161d183124531bcd79d9c6a605b5a829023452995e949ad1a49575a2e0088"
  },
  "kernelspec": {
   "display_name": "Python 3.9.6 64-bit",
   "name": "python3"
  },
  "language_info": {
   "codemirror_mode": {
    "name": "ipython",
    "version": 3
   },
   "file_extension": ".py",
   "mimetype": "text/x-python",
   "name": "python",
   "nbconvert_exporter": "python",
   "pygments_lexer": "ipython3",
   "version": "3.9.6"
  }
 },
 "nbformat": 4,
 "nbformat_minor": 4
}
